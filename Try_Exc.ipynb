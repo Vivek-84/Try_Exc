{
 "cells": [
  {
   "cell_type": "markdown",
   "id": "b611b3c7",
   "metadata": {},
   "source": [
    "# What is an Exception in Python? write the difference between exceptions and syntax error.\n"
   ]
  },
  {
   "cell_type": "code",
   "execution_count": 20,
   "id": "f8b32b41",
   "metadata": {},
   "outputs": [],
   "source": [
    "# An Exception is an error that happens during the execution of a program. Whenever there is an error, Python generates an\n",
    "# exception that could be handled. It basically prevents the program from getting crashed.\n",
    "\n",
    "# A syntax error occurs when the structure of a program does not conform to the rules of the programming language. Syntax errors\n",
    "# are usually detected by the compiler or interpreter when the program is being compiled or executed, and they prevent the\n",
    "# program from running. Syntax errors are usually caused by mistakes in the source code, such as typos, omissions, or incorrect\n",
    "# use of syntax.\n",
    "\n",
    "# An exception is an abnormal event that occurs during the execution of a program. Exceptions are usually caused by runtime\n",
    "# errors, such as dividing by zero, trying to access an element in an array with an out-of-bounds index, or trying to access a\n",
    "# file that does not exist. Exceptions are not syntax errors, but they can still prevent the program from running if they are \n",
    "# not handled properly."
   ]
  },
  {
   "cell_type": "markdown",
   "id": "41ba3473",
   "metadata": {},
   "source": [
    "# What happens when an exception is not handled? Explain with an example."
   ]
  },
  {
   "cell_type": "code",
   "execution_count": 2,
   "id": "f13a1c0d",
   "metadata": {},
   "outputs": [
    {
     "ename": "FileNotFoundError",
     "evalue": "[Errno 2] No such file or directory: 'test.txt'",
     "output_type": "error",
     "traceback": [
      "\u001b[1;31m---------------------------------------------------------------------------\u001b[0m",
      "\u001b[1;31mFileNotFoundError\u001b[0m                         Traceback (most recent call last)",
      "Cell \u001b[1;32mIn[2], line 4\u001b[0m\n\u001b[0;32m      1\u001b[0m \u001b[38;5;66;03m# If an exception is not handled, the runtime system will abort the program (i.e. crash) and an exception message will print to\u001b[39;00m\n\u001b[0;32m      2\u001b[0m \u001b[38;5;66;03m# the console.\u001b[39;00m\n\u001b[1;32m----> 4\u001b[0m \u001b[38;5;28;01mwith\u001b[39;00m \u001b[38;5;28;43mopen\u001b[39;49m\u001b[43m(\u001b[49m\u001b[38;5;124;43m\"\u001b[39;49m\u001b[38;5;124;43mtest.txt\u001b[39;49m\u001b[38;5;124;43m\"\u001b[39;49m\u001b[43m,\u001b[49m\u001b[38;5;124;43m'\u001b[39;49m\u001b[38;5;124;43mr\u001b[39;49m\u001b[38;5;124;43m'\u001b[39;49m\u001b[43m)\u001b[49m \u001b[38;5;28;01mas\u001b[39;00m f:\n\u001b[0;32m      5\u001b[0m     f\u001b[38;5;241m.\u001b[39mread()\n\u001b[0;32m      6\u001b[0m     f\u001b[38;5;241m.\u001b[39mclose()\n",
      "File \u001b[1;32m~\\AppData\\Local\\Programs\\Python\\Python311\\Lib\\site-packages\\IPython\\core\\interactiveshell.py:284\u001b[0m, in \u001b[0;36m_modified_open\u001b[1;34m(file, *args, **kwargs)\u001b[0m\n\u001b[0;32m    277\u001b[0m \u001b[38;5;28;01mif\u001b[39;00m file \u001b[38;5;129;01min\u001b[39;00m {\u001b[38;5;241m0\u001b[39m, \u001b[38;5;241m1\u001b[39m, \u001b[38;5;241m2\u001b[39m}:\n\u001b[0;32m    278\u001b[0m     \u001b[38;5;28;01mraise\u001b[39;00m \u001b[38;5;167;01mValueError\u001b[39;00m(\n\u001b[0;32m    279\u001b[0m         \u001b[38;5;124mf\u001b[39m\u001b[38;5;124m\"\u001b[39m\u001b[38;5;124mIPython won\u001b[39m\u001b[38;5;124m'\u001b[39m\u001b[38;5;124mt let you open fd=\u001b[39m\u001b[38;5;132;01m{\u001b[39;00mfile\u001b[38;5;132;01m}\u001b[39;00m\u001b[38;5;124m by default \u001b[39m\u001b[38;5;124m\"\u001b[39m\n\u001b[0;32m    280\u001b[0m         \u001b[38;5;124m\"\u001b[39m\u001b[38;5;124mas it is likely to crash IPython. If you know what you are doing, \u001b[39m\u001b[38;5;124m\"\u001b[39m\n\u001b[0;32m    281\u001b[0m         \u001b[38;5;124m\"\u001b[39m\u001b[38;5;124myou can use builtins\u001b[39m\u001b[38;5;124m'\u001b[39m\u001b[38;5;124m open.\u001b[39m\u001b[38;5;124m\"\u001b[39m\n\u001b[0;32m    282\u001b[0m     )\n\u001b[1;32m--> 284\u001b[0m \u001b[38;5;28;01mreturn\u001b[39;00m \u001b[43mio_open\u001b[49m\u001b[43m(\u001b[49m\u001b[43mfile\u001b[49m\u001b[43m,\u001b[49m\u001b[43m \u001b[49m\u001b[38;5;241;43m*\u001b[39;49m\u001b[43margs\u001b[49m\u001b[43m,\u001b[49m\u001b[43m \u001b[49m\u001b[38;5;241;43m*\u001b[39;49m\u001b[38;5;241;43m*\u001b[39;49m\u001b[43mkwargs\u001b[49m\u001b[43m)\u001b[49m\n",
      "\u001b[1;31mFileNotFoundError\u001b[0m: [Errno 2] No such file or directory: 'test.txt'"
     ]
    }
   ],
   "source": [
    "# If an exception is not handled, the runtime system will abort the program (i.e. crash) and an exception message will print to\n",
    "# the console.\n",
    "\n",
    "with open(\"test.txt\",'r') as f:\n",
    "    f.read()\n",
    "    f.close()"
   ]
  },
  {
   "cell_type": "markdown",
   "id": "ab989ac9",
   "metadata": {},
   "source": [
    "# Which python statements are used to catch and handled exception ?Explain with an example."
   ]
  },
  {
   "cell_type": "code",
   "execution_count": 7,
   "id": "cc8e8a5c",
   "metadata": {},
   "outputs": [],
   "source": [
    "# The try and except block in Python is used to catch and handle exceptions. Python executes code following the try statement\n",
    "# as a “normal” part of the program. The code that follows the except statement is the program’s response to any exceptions\n",
    "# in the preceding try clause.\n",
    "\n",
    "import logging\n",
    "logging.basicConfig(filename=\"test.log\",type=logging.INFO)\n",
    "try:\n",
    "    with open(\"test1.txt\", 'r') as f:\n",
    "        f.read()\n",
    "        \n",
    "except FileNotFoundError as e:\n",
    "    logging.info(\"This Error is due to File not found{}\".format(e))\n",
    "    \n"
   ]
  },
  {
   "cell_type": "markdown",
   "id": "8e4033eb",
   "metadata": {},
   "source": [
    "# Explain with an example\n",
    "a> try and else\n",
    "b> finally\n",
    "c> raise\n"
   ]
  },
  {
   "cell_type": "code",
   "execution_count": 8,
   "id": "6346a75f",
   "metadata": {},
   "outputs": [],
   "source": [
    "#try and else\n",
    "\n",
    "try:\n",
    "    with open(\"test2.txt\",'w') as f:\n",
    "        f.write(\"this is a test code\")\n",
    "except Exception as e:\n",
    "    logging.info(e)\n",
    "else:\n",
    "    f.close()\n",
    "        \n",
    "        "
   ]
  },
  {
   "cell_type": "code",
   "execution_count": 9,
   "id": "ad02328b",
   "metadata": {},
   "outputs": [
    {
     "ename": "FileNotFoundError",
     "evalue": "[Errno 2] No such file or directory: 'test3.txt'",
     "output_type": "error",
     "traceback": [
      "\u001b[1;31m---------------------------------------------------------------------------\u001b[0m",
      "\u001b[1;31mFileNotFoundError\u001b[0m                         Traceback (most recent call last)",
      "Cell \u001b[1;32mIn[9], line 3\u001b[0m\n\u001b[0;32m      1\u001b[0m \u001b[38;5;66;03m#finally\u001b[39;00m\n\u001b[0;32m      2\u001b[0m \u001b[38;5;28;01mtry\u001b[39;00m:\n\u001b[1;32m----> 3\u001b[0m     \u001b[38;5;28;01mwith\u001b[39;00m \u001b[38;5;28;43mopen\u001b[39;49m\u001b[43m(\u001b[49m\u001b[38;5;124;43m\"\u001b[39;49m\u001b[38;5;124;43mtest3.txt\u001b[39;49m\u001b[38;5;124;43m\"\u001b[39;49m\u001b[43m,\u001b[49m\u001b[38;5;124;43m'\u001b[39;49m\u001b[38;5;124;43mr\u001b[39;49m\u001b[38;5;124;43m'\u001b[39;49m\u001b[43m)\u001b[49m \u001b[38;5;28;01mas\u001b[39;00m f:\n\u001b[0;32m      4\u001b[0m         f\u001b[38;5;241m.\u001b[39mread()\n\u001b[0;32m      5\u001b[0m \u001b[38;5;28;01mfinally\u001b[39;00m:\n",
      "File \u001b[1;32m~\\AppData\\Local\\Programs\\Python\\Python311\\Lib\\site-packages\\IPython\\core\\interactiveshell.py:284\u001b[0m, in \u001b[0;36m_modified_open\u001b[1;34m(file, *args, **kwargs)\u001b[0m\n\u001b[0;32m    277\u001b[0m \u001b[38;5;28;01mif\u001b[39;00m file \u001b[38;5;129;01min\u001b[39;00m {\u001b[38;5;241m0\u001b[39m, \u001b[38;5;241m1\u001b[39m, \u001b[38;5;241m2\u001b[39m}:\n\u001b[0;32m    278\u001b[0m     \u001b[38;5;28;01mraise\u001b[39;00m \u001b[38;5;167;01mValueError\u001b[39;00m(\n\u001b[0;32m    279\u001b[0m         \u001b[38;5;124mf\u001b[39m\u001b[38;5;124m\"\u001b[39m\u001b[38;5;124mIPython won\u001b[39m\u001b[38;5;124m'\u001b[39m\u001b[38;5;124mt let you open fd=\u001b[39m\u001b[38;5;132;01m{\u001b[39;00mfile\u001b[38;5;132;01m}\u001b[39;00m\u001b[38;5;124m by default \u001b[39m\u001b[38;5;124m\"\u001b[39m\n\u001b[0;32m    280\u001b[0m         \u001b[38;5;124m\"\u001b[39m\u001b[38;5;124mas it is likely to crash IPython. If you know what you are doing, \u001b[39m\u001b[38;5;124m\"\u001b[39m\n\u001b[0;32m    281\u001b[0m         \u001b[38;5;124m\"\u001b[39m\u001b[38;5;124myou can use builtins\u001b[39m\u001b[38;5;124m'\u001b[39m\u001b[38;5;124m open.\u001b[39m\u001b[38;5;124m\"\u001b[39m\n\u001b[0;32m    282\u001b[0m     )\n\u001b[1;32m--> 284\u001b[0m \u001b[38;5;28;01mreturn\u001b[39;00m \u001b[43mio_open\u001b[49m\u001b[43m(\u001b[49m\u001b[43mfile\u001b[49m\u001b[43m,\u001b[49m\u001b[43m \u001b[49m\u001b[38;5;241;43m*\u001b[39;49m\u001b[43margs\u001b[49m\u001b[43m,\u001b[49m\u001b[43m \u001b[49m\u001b[38;5;241;43m*\u001b[39;49m\u001b[38;5;241;43m*\u001b[39;49m\u001b[43mkwargs\u001b[49m\u001b[43m)\u001b[49m\n",
      "\u001b[1;31mFileNotFoundError\u001b[0m: [Errno 2] No such file or directory: 'test3.txt'"
     ]
    }
   ],
   "source": [
    "#finally\n",
    "try:\n",
    "    with open(\"test3.txt\",'r') as f:\n",
    "        f.read()\n",
    "finally:\n",
    "    logging.info(\"this is an example of finally\")\n",
    "        \n"
   ]
  },
  {
   "cell_type": "code",
   "execution_count": 15,
   "id": "2c6e6bbf",
   "metadata": {},
   "outputs": [
    {
     "name": "stdout",
     "output_type": "stream",
     "text": [
      "Enter the speed78\n",
      "speed is very high\n"
     ]
    }
   ],
   "source": [
    "#raise\n",
    "class validatespeed_(Exception):\n",
    "\n",
    "    def __init__(self, msg):\n",
    "        self.msg = msg\n",
    "\n",
    "def validatespeed(speed):\n",
    "    if speed <= 0 :\n",
    "        raise validatespeed_(\"speed is negative\")\n",
    "    elif speed > 60 :\n",
    "        raise validatespeed_(\"speed is very high\")\n",
    "    elif speed == 45:\n",
    "        raise validatespeed_(\"Economical speed\")\n",
    "    \n",
    "    else:\n",
    "        print(\"Speed is good\")\n",
    "try :\n",
    "    speed =int(input(\"Enter the speed\"))\n",
    "    validatespeed(speed)\n",
    "\n",
    "except validatespeed_ as e:\n",
    "    print(e)\n"
   ]
  },
  {
   "cell_type": "markdown",
   "id": "aeada68a",
   "metadata": {},
   "source": [
    "# What are custom exceptions in python? why do we need custom exceptions?Explain with an example."
   ]
  },
  {
   "cell_type": "code",
   "execution_count": 16,
   "id": "110c4db7",
   "metadata": {},
   "outputs": [
    {
     "name": "stdout",
     "output_type": "stream",
     "text": [
      "Enter the Number45\n",
      "It is posative Integer\n"
     ]
    }
   ],
   "source": [
    "#In Python, we can define custom exceptions by creating a new class that is derived from the built-in Exception class.\n",
    "# Built-in exceptions offer information about Python-related problems, and custom exceptions will add information about \n",
    "# project-related problems. That way, you can design your code (and traceback, if an exception is raised) in a way that combines\n",
    "# Python code with the language of the project.\n",
    "\n",
    "class validatenumber(Exception):\n",
    "\n",
    "    def __init__(self, msg):\n",
    "        self.msg = msg\n",
    "\n",
    "def validate(number):\n",
    "    if number < 0 :\n",
    "        raise validatenumber(\"It is negative Integer\")\n",
    "    elif number > 0 :\n",
    "        raise validatenumber(\"It is posative Integer\")\n",
    "    \n",
    "    else:\n",
    "        print(\"Non Negative Or Non Posative\")\n",
    "try :\n",
    "    number =int(input(\"Enter the Number\"))\n",
    "    validate(number)\n",
    "\n",
    "except validatenumber as e:\n",
    "    print(e)\n"
   ]
  },
  {
   "cell_type": "markdown",
   "id": "38bc3130",
   "metadata": {},
   "source": [
    "# Create an custom exception class. use this class to handel an exception."
   ]
  },
  {
   "cell_type": "code",
   "execution_count": 19,
   "id": "32c8a393",
   "metadata": {},
   "outputs": [
    {
     "name": "stdout",
     "output_type": "stream",
     "text": [
      "Enter the Indexing Number80\n",
      "It is out of indexing limit\n"
     ]
    }
   ],
   "source": [
    "class validatenumber(Exception):\n",
    "\n",
    "    def __init__(self, msg):\n",
    "        self.msg = msg\n",
    "l=[1,2,3,4,5,6,7,8,9]\n",
    "def validate(i):\n",
    "    if i > len(l):\n",
    "        raise validatenumber(\"It is out of indexing limit\")\n",
    "    else:\n",
    "        print(\"Under indexing\")\n",
    "try :\n",
    "    i =int(input(\"Enter the Indexing Number\"))\n",
    "    validate(i)\n",
    "\n",
    "except validatenumber as e:\n",
    "    print(e)"
   ]
  },
  {
   "cell_type": "code",
   "execution_count": null,
   "id": "4d822d22",
   "metadata": {},
   "outputs": [],
   "source": []
  }
 ],
 "metadata": {
  "kernelspec": {
   "display_name": "Python 3 (ipykernel)",
   "language": "python",
   "name": "python3"
  },
  "language_info": {
   "codemirror_mode": {
    "name": "ipython",
    "version": 3
   },
   "file_extension": ".py",
   "mimetype": "text/x-python",
   "name": "python",
   "nbconvert_exporter": "python",
   "pygments_lexer": "ipython3",
   "version": "3.11.4"
  }
 },
 "nbformat": 4,
 "nbformat_minor": 5
}
